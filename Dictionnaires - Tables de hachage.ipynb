{
 "cells": [
  {
   "cell_type": "markdown",
   "id": "0b06a6e7",
   "metadata": {},
   "source": [
    "Le *dictionnaire* ou *tableau associatif* est une structure de données qui permet de stocker/consulter des valeurs en les appariant à des clefs. \n",
    "\n",
    "**Exemple:**  \n",
    "$3 \\mapsto \\text{\"foo\"}$  \n",
    "$17 \\mapsto \\text{\"bar\"}$  \n",
    "$42 \\mapsto \\text{\"foobar\"}$  \n",
    "est un dictionnaire ayant 3 valeurs enregistrées : \"foo\", \"bar\", et \"foobar\" associées aux clefs 3, 17 et 42.\n",
    "\n",
    "On peut comparer son utilisation à un tableau dont les indices ne sont pas nécessairement entiers et contigus. L'interface d'un dictionnaire regroupe quatre opérations :\n",
    "\n",
    "- ```appartient clef dico```: le test d'appartenance\n",
    "- ```insere clef valeur dico ``` : l'altération ou insertion de la valeur associée à une clef\n",
    "- ```supprime clef dico ``` : la suppression\n",
    "- ```accede clef dico ``` : l'accés à une valeur\n",
    "\n",
    "# Liste d'associations\n",
    "Ecrire une implantation de la structure de dictionnaire en utilisant une liste de couples (clé, valeur) appelée liste d'associations. Etudier la complexité des 4 opérations."
   ]
  },
  {
   "cell_type": "code",
   "execution_count": null,
   "id": "bc29fbb8",
   "metadata": {},
   "outputs": [],
   "source": [
    "type ('clef, 'valeur) liste_associations =\n",
    "    'clef * 'valeur list;;\n",
    "\n",
    "let appartient_la clef listeAssocs = (* à compléter *);;\n",
    "\n",
    "let insere_la clef valeur listeAssocs = (* à compléter *);;\n",
    "\n",
    "let supprime_la clef listeAssocs = (* à compléter *);;\n",
    "\n",
    "let accede_la clef listeAssocs = (* à compléter *);;"
   ]
  },
  {
   "cell_type": "markdown",
   "id": "7f31400b",
   "metadata": {},
   "source": [
    "# Table de hachage\n",
    "Une fonction de hachage est une fonction qui va d'un ensemble quelconque vers $[\\![ 0 ; n-1 ]\\!]$ ou $n \\in \\mathbb{N}$. Une bonne fonction de hachage répartit les valeurs de l'ensemble de départ uniformément sur l'ensemble  $[\\![ 0 ; n-1 ]\\!]$. Lorque deux valeurs ont la même image, on parle de collision. Plus précisément, une bonne fonction de hachage est une fonction qui minimise la probabilité de collision entre deux valeurs en comptant leur probabilité d'occurences.\n",
    "\n",
    "La table de hachage est une implantation possible d'une structure de dictionnaire qui utilise une fonction de hachage $f$ pour placer les valeurs dans un tableau. Plus précisément, on enregistre dans un tableau le couple $(clef,valeur)$ à l'indice $f(clef)$. La taille du tableau est supérieure strictement au nombre d'éléments à stocker. \n",
    "\n",
    "## Implantation améliorée - Version 1\n",
    "On considère qu'un dictionnaire est un couple constitué de la fonction de hachage et d'un tableau de listes d'associations, dans chaque liste on place tous les couples dont la clef a pour hachage l'indice de la case. On tire parti des fonctions écrites précédemment. \n",
    "\n",
    "Ecrire l'implantation."
   ]
  },
  {
   "cell_type": "code",
   "execution_count": null,
   "id": "b3025b9c",
   "metadata": {},
   "outputs": [],
   "source": [
    "type ('clef, 'valeur) dictionnaire1 = \n",
    "    ('clef, 'valeur) liste_associations array * ('clef -> int);;\n",
    "\n",
    "let appartient1 clef dico = (* à compléter *);;\n",
    "\n",
    "let insere1 clef valeur dico = (* à compléter *);;\n",
    "\n",
    "let supprime1 clef dico = (* à compléter *);;\n",
    "\n",
    "let accede1 clef dico = (* à compléter *);;"
   ]
  },
  {
   "cell_type": "markdown",
   "id": "5314b426",
   "metadata": {},
   "source": [
    "## Implantation améliorée - Version 2\n",
    "On considère qu'un dictionnaire est un couple constitué de la fonction de hachage et d'un tableau de cases qui peuvent soit être libres soit contenir un couple. Lorsqu'une case est prise, on prend la première libre en partant de cette case. La recherche s'effectue de la même façon, on part de l'emplacement normalement prévu, on regarde si la clef correspond, puis on cherche jusqu'à tomber sur une case vide synonyme de l'absence de la valeur recherchée de la table.\n",
    "\n",
    "Ecrire l'implantation."
   ]
  },
  {
   "cell_type": "code",
   "execution_count": null,
   "id": "c95db011",
   "metadata": {},
   "outputs": [],
   "source": [
    "type ('clef, 'valeur) dictionnaire2 = \n",
    "    ('clef * 'valeur) option array * ('clef -> int);;\n",
    "\n",
    "let appartient2 clef dico = (* à compléter *);;\n",
    "\n",
    "let insere2 clef valeur dico = (* à compléter *);;\n",
    "\n",
    "let supprime2 clef dico = (* à compléter *);;\n",
    "\n",
    "let accede2 clef dico = (* à compléter *);;"
   ]
  },
  {
   "cell_type": "markdown",
   "id": "21ea2bb5",
   "metadata": {},
   "source": [
    "## Comparaison\n",
    "Regarder l'état des deux versions après avoir insérer 50 mots dans un dictionnaire basé sur un tableaux de 60 cases dans les deux cas. Calculer le nombre moyen de consultations de couples dans les deux cas pour des recherches fructueuses et infructueuses."
   ]
  },
  {
   "cell_type": "code",
   "execution_count": null,
   "id": "5c1e30a9",
   "metadata": {},
   "outputs": [],
   "source": []
  }
 ],
 "metadata": {
  "kernelspec": {
   "display_name": "OCaml 4.12.0",
   "language": "OCaml",
   "name": "ocaml-jupyter"
  },
  "language_info": {
   "codemirror_mode": "text/x-ocaml",
   "file_extension": ".ml",
   "mimetype": "text/x-ocaml",
   "name": "OCaml",
   "nbconverter_exporter": null,
   "pygments_lexer": "OCaml",
   "version": "4.12.0"
  }
 },
 "nbformat": 4,
 "nbformat_minor": 5
}
