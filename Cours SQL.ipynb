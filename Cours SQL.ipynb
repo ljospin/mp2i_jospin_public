{
 "cells": [
  {
   "cell_type": "code",
   "execution_count": null,
   "id": "5b9aa10b-a3a1-41ae-a860-a6c1d78d5677",
   "metadata": {
    "kernel": "xsql",
    "tags": [
     "hide-input"
    ]
   },
   "outputs": [],
   "source": [
    "%LOAD sqlite3 db=./pokedex.sqlite timeout=20 shared_cache=true"
   ]
  },
  {
   "cell_type": "markdown",
   "id": "2e24dd36-cf5d-45e4-a798-17788130fff8",
   "metadata": {
    "kernel": "SoS"
   },
   "source": [
    "# Base de données - SQL\n",
    "\n",
    "# Syntaxe du SQL\n",
    "Les requêtes SQL peuvent comprendre un retour à la ligne à tout endroit où un espace pourrait être utilisé, mais aucun retour à la ligne n'est syntaxiquement nécessaire. On pourra utiliser ces retours à la ligne pour la clareté de la présentation.\n",
    "\n",
    "## Requête simple de sélection\n",
    "\n",
    "Le langage SQL est le langage le plus répandu pour la formulation des requêtes sur les bases de données. On ne s'intéresse qu'aux requêtes permettant de consulter les entrées de la table, et non celles permettant de les y insérer, ou de les modifier. La syntaxe basique d'une requête de projection et sélection sur la table `table1` d'une base de données est :\n",
    "```sql\n",
    "\tSELECT champs                               -- projection\n",
    "\tFROM table1                                 -- tables\n",
    "\tWHERE condition sur les champs              -- sélection\n",
    "```\n",
    "Les champs sont séparés par des virgules et peuvent être remplacés par le caractère * pour désigner tous les champs (pas de projection). Les conditions peuvent être composées avec les opérateurs booléens `OR`, `AND`, et `NOT` et les opérateurs de comparaisons `<`, `<=`, `>`, `>=`, `=`, `!=`. S'il n'y a pas de sélection à faire sur les entrées de la table, on omet la clause `WHERE`.\n",
    "En lieu et place d'un champ, on peut également utiliser une expression sur les champs de la table en utilisant les opérateurs arithmétiques usuels.\n",
    "Lors de la projection, les champs demandés peuvent être renommés grâce au mot clef `AS` (Exemple : \n",
    "`SELECT age/100 AS reduction FROM clients` )\n",
    "**Exemple:**"
   ]
  },
  {
   "cell_type": "code",
   "execution_count": null,
   "id": "e38a50e8-fcaf-486e-aa01-458e1ee30160",
   "metadata": {
    "kernel": "xsql",
    "tags": []
   },
   "outputs": [],
   "source": [
    "-- 1. Numéros des jeux sortis sur PS4"
   ]
  },
  {
   "cell_type": "code",
   "execution_count": null,
   "id": "a9e92bff-9a5b-4b4f-97c4-506e69aba5e1",
   "metadata": {
    "kernel": "xsql",
    "tags": []
   },
   "outputs": [],
   "source": [
    "-- 2. Nom du jeu dont le numéro est 1"
   ]
  },
  {
   "cell_type": "code",
   "execution_count": null,
   "id": "526cbaa5-5db8-475b-8330-8318c9a45ef0",
   "metadata": {
    "kernel": "xsql",
    "tags": []
   },
   "outputs": [],
   "source": [
    "-- 3. Nom des reviewers"
   ]
  },
  {
   "cell_type": "code",
   "execution_count": null,
   "id": "3ee8ef4a-a9b8-44be-b775-cf1c496996d8",
   "metadata": {
    "kernel": "xsql",
    "tags": []
   },
   "outputs": [],
   "source": [
    "-- 4. Numéros des jeux enregistrés qui ne sont pas encore sortis"
   ]
  },
  {
   "cell_type": "code",
   "execution_count": null,
   "id": "f7998a5d-a233-4351-8508-404ddac9959d",
   "metadata": {
    "kernel": "xsql",
    "tags": []
   },
   "outputs": [],
   "source": [
    "-- 5. Numéro du jeu Fortnite"
   ]
  },
  {
   "cell_type": "markdown",
   "id": "8affeef7-fc81-4872-bcca-5df31d63cbe4",
   "metadata": {
    "kernel": "SoS"
   },
   "source": [
    "## Produit cartésien et jointures\n",
    "\n",
    "Il est également possible de faire une requête sur le \\emph{produit cartésien} de deux tables (ou plus).\n",
    "```sql\n",
    "\tSELECT champs\n",
    "\tFROM table1, table2\n",
    "\tWHERE condition sur les champs\n",
    "```\n",
    "Une partie de la condition consiste alors souvent à faire correspondre des champs de `table1` et de `table2`. Lorsqu'il y a ambiguité entre deux noms de champs, on peut préfixer le nom du champ par le nom de la table suivi d'un point. **Exemple**:  `SELECT * FROM table1, table2 WHERE table1.champ = table2.champ`\n",
    "Dans ce cas, on pourra également plus simplement utiliser, en lieu et place du produit cartésien, une \\emph{jointure} dite {symétrique} :\n",
    "\n",
    "**Exemple**:  `SELECT * FROM table1 JOIN table2 ON table1.champ = table2.champ` \n",
    "\n",
    "Afin de simplifier l'écriture des préfixes lors des jointures ou produits cartésiens, on définit souvent des alias aux différentes tables, grâce à la syntaxe `table AS t`, le mot `AS` peut même être omis. On l'utilise nécessairement si une même table apparaît deux fois dans une jointure.\n",
    "\n",
    "L'auto jointure est un cas particulier de jointure symétrique simple où l'on joint une table avec elle-même.\n",
    "\n",
    "**Exemple:**"
   ]
  },
  {
   "cell_type": "code",
   "execution_count": null,
   "id": "82bb3936-14fd-4d62-b04d-20d024fd8ecd",
   "metadata": {
    "kernel": "SoS"
   },
   "outputs": [],
   "source": [
    "-- 6. Noms des jeux sortis sur Switch"
   ]
  },
  {
   "cell_type": "code",
   "execution_count": null,
   "id": "7d0ce96c-83f8-4876-88b0-174d6a87a546",
   "metadata": {
    "kernel": "SoS"
   },
   "outputs": [],
   "source": [
    "-- 7. Console et dates de sortie pour le jeu Mortal Kombat 11"
   ]
  },
  {
   "cell_type": "code",
   "execution_count": null,
   "id": "1966845a-d091-44d7-9d67-21a3e20623cf",
   "metadata": {
    "kernel": "SoS"
   },
   "outputs": [],
   "source": [
    "-- 8. Noms des reviewers ayant testés le jeu Fifa 2019"
   ]
  },
  {
   "cell_type": "code",
   "execution_count": null,
   "id": "f7fc3f89-a7a3-4168-b66c-71f43da1eb29",
   "metadata": {
    "kernel": "SoS"
   },
   "outputs": [],
   "source": [
    "-- 9. Noms et prénoms des followers de Laurent Jospin"
   ]
  },
  {
   "cell_type": "code",
   "execution_count": null,
   "id": "3e1cc4ef-a309-4df0-a9aa-84621cd006f7",
   "metadata": {
    "kernel": "SoS"
   },
   "outputs": [],
   "source": [
    "-- 10. Couples de numéros d'utilisateurs qui se suivent mutuellement (et pour 3?)"
   ]
  },
  {
   "cell_type": "markdown",
   "id": "ae6dbf31",
   "metadata": {
    "kernel": "SoS"
   },
   "source": [
    "## Opérations ensemblistes\n",
    "Lorsque les tables ont la même structure (mêmes champs et mêmes types), il est possible d'effectuer les opérations ensemblistes usuelles : `UNION`, `INTERSECT` et `EXCEPT` (différence) (ou `MINUS` suivant les versions).\n",
    "\n",
    "**Exemple**:  `SELECT * FROM table1 UNION table2`\n",
    "\n",
    "**Remarque**:\n",
    "`EXCEPT` n'est pas implémanté dans certaines versions de SQL. On le remplacera alors par le test d'appartenance `IN` ou de non appartenance ici `NOT IN`.\n",
    "\n",
    "**Exemple:**"
   ]
  },
  {
   "cell_type": "code",
   "execution_count": null,
   "id": "fd344ef7-3ecb-4c71-bb14-d06aae4f3a44",
   "metadata": {
    "kernel": "SoS"
   },
   "outputs": [],
   "source": [
    "-- 11. Numéro des jeux pour lequels aucune sortie n'a été annoncée "
   ]
  },
  {
   "cell_type": "code",
   "execution_count": null,
   "id": "7ea7a48e-dc2d-41cf-a738-eb7fe8af773a",
   "metadata": {
    "kernel": "SoS"
   },
   "outputs": [],
   "source": [
    "-- 12. Reviewers répertoriés qui n'ont pas fait de review "
   ]
  },
  {
   "cell_type": "code",
   "execution_count": null,
   "id": "dfe2c22d-49b8-4643-84ac-a9c5a04255c0",
   "metadata": {
    "kernel": "SoS"
   },
   "outputs": [],
   "source": [
    "-- 13. Numéro des jeux qui sont déjà sortis et ont été testés "
   ]
  },
  {
   "cell_type": "markdown",
   "id": "aaaeb647-2df9-4995-86e3-df7682f330bd",
   "metadata": {
    "kernel": "SoS"
   },
   "source": [
    "## Agrégation\n",
    "L'agrégation est utilisée pour regrouper des entrées d'une même table qui ont la même valeur sur un champ ou une clé, et permet d'évaluer sur les autres champs de ces entrées des fonctions d'agrégation : le comptage `COUNT`, le minimum `MIN`, le maximum `MAX`, la somme `SUM` et la moyenne `AVG`.\n",
    "\n",
    "La syntaxe est ainsi \n",
    "```sql\n",
    "\tSELECT -- champ ayant servi à l'agrégation, fonctions d'agrégations sur les autres champs\n",
    "\tFROM -- table\n",
    "\tWHERE -- condition sur les champs sélectionné pour former l'agrégation\n",
    "\tGROUP BY --champ servant à l'agrégation\n",
    "```"
   ]
  },
  {
   "cell_type": "code",
   "execution_count": null,
   "id": "15bf8d99-fc83-48d7-8b4f-7fb31969776f",
   "metadata": {
    "kernel": "SoS"
   },
   "outputs": [],
   "source": [
    "-- 14. Note minimale, moyenne, et maximale attribuées par chaque reviewer"
   ]
  },
  {
   "cell_type": "code",
   "execution_count": null,
   "id": "607befe3-3511-4179-9bef-d311c3e84ddc",
   "metadata": {
    "kernel": "SoS"
   },
   "outputs": [],
   "source": [
    "-- 15. Ecart-type des notes attribuées par chaque reviewer"
   ]
  },
  {
   "cell_type": "code",
   "execution_count": null,
   "id": "a21ab0e3-aefb-4703-a5e2-72ede1cbebe8",
   "metadata": {
    "kernel": "SoS"
   },
   "outputs": [],
   "source": [
    "-- 16. Nombre de jeu ayant reçu une note supérieure à 5"
   ]
  },
  {
   "cell_type": "markdown",
   "id": "a1eec5ca-fd0c-4ac7-ad98-7d7f0318f4fe",
   "metadata": {
    "kernel": "SoS"
   },
   "source": [
    "On peut ajouter une sélection en aval qui porte sur le résultat des fonctions d'agrégation grâce au mot clef `HAVING`:\n",
    "\n",
    "**Exemples:**"
   ]
  },
  {
   "cell_type": "code",
   "execution_count": null,
   "id": "0456a52d-0e57-4465-a64f-29d02ec64c5b",
   "metadata": {
    "kernel": "SoS"
   },
   "outputs": [],
   "source": [
    "-- 17. Numéros des jeux dont la note moyenne est supérieure à 5\\vspace{2.5em}"
   ]
  },
  {
   "cell_type": "code",
   "execution_count": null,
   "id": "93e07ab8-2105-4f73-b6d8-6452fdedf4d4",
   "metadata": {
    "kernel": "SoS"
   },
   "outputs": [],
   "source": [
    "-- 18. Numéros des jeux sortis sur PS4 et ayant été testé au moins 3 fois \\vspace{2.5em}"
   ]
  },
  {
   "cell_type": "code",
   "execution_count": null,
   "id": "9f3c6a63-f370-4ece-95d1-f5b7f49ee9ab",
   "metadata": {
    "kernel": "SoS"
   },
   "outputs": [],
   "source": [
    "-- 19. Noms des influencers ayant au moins 10 followers\\vspace{2.5em} "
   ]
  },
  {
   "cell_type": "markdown",
   "id": "d89e14ed-3e88-4ece-8deb-18027f396484",
   "metadata": {
    "kernel": "SoS"
   },
   "source": [
    "**Remarques:**\n",
    "- Quelque soit l'argument qu'on donne à la fonction d'agrégation `COUNT`, on compte simplement le nombre d'entrées, usuellement, on utilise `COUNT(*)`  ou  `COUNT(1)` plutôt que de mettre un champ particulier. Si l'on souhaite compter le nombre de valeurs distinctes d'un champ particulier `champ1`, on pourra utiliser le mot-clef `DISTINCT` :  `COUNT(DISTINCT champ1)`.\n",
    "- Lorsqu'on réalise une agrégation, la projection doit se faire sur le résultat de fonctions d'agrégation, ou sur les champs utilisés pour l'agrégation. L'utilisation d'un autre champ est illicite dans certaines implémentations et renvoie une valeur quelconque dans d'autres.\n",
    "\n",
    "## Résultats ordonnés\n",
    "Les résultats ont souvent besoin d'être ordonnés pour l'application. Dans de nombreux cas, il est préférable que le tri se fasse par l'application plutôt que par le serveur de base de données qui a souvent une charge très importante et qui constitue dans de nombreux cas le facteur limitant de l'application. On utilise dans ce cas les algorithmes de tris usuels à l'intérieur de l'application.\n",
    "\n",
    "Les moteurs de base de données intégrent cependant des fonctions de tris efficaces (en particulier sur les champs indexés), la syntaxe consiste alors à ajouter à la fin de la requête :\n",
    "\n",
    "```sql\n",
    "ORDER BY champ1 [ASC/DESC], champ2 [ASC/DESC], ... -- les crochets ne font pas partie de la syntaxe, ils signifient que le mot-clef est optionnel\n",
    "```\n",
    "\n",
    "afin de spécifier le champ ou la clé et l'ordre à utiliser (croissant ou décroissant), ainsi que la possibilité de spécifier d'autres champs à utiliser pour ordonner lorsque les deux entrées ont la même valeur pour le premier champ. L'ordre se place en toute fin de requête. Il porte sur des champs demandés dans le `SELECT` ou des champs présents dans la table ou même des expressions dépendant de ces champs.\n",
    "\n",
    "\n",
    "## Requêtes imbriquées\n",
    "Le résultat d'une requête est une table, il est donc possible d'utiliser une requête en lieu et place d'un nom de table dans une autre requête. Il convient alors de nommer cette table avec le mot `AS`. On parle de requêtes imbriquées. En particulier, lorsqu'une requête produit une seule entrée contenant une seule valeur, cette requête peut être utilisée en lieu et place d'une valeur dans une autre requête. Dans les deux cas, la rédaction sera plus claire en introduisant, par une phrase, un nom pour la requête imbriquée.\n",
    "\n",
    "Dans de nombreux cas les requêtes imbriquées peuvent être évitées et remplacées par des jointures ou des agrégations. L'utilisation de requêtes imbriquées doit être très limitée, d'autant plus qu'elles sont en pratique généralement très lentes.\n",
    "\n",
    "**Exemple:**"
   ]
  },
  {
   "cell_type": "code",
   "execution_count": null,
   "id": "02044d90-5faa-4e63-a4d3-7ef238980def",
   "metadata": {
    "kernel": "SoS"
   },
   "outputs": [],
   "source": [
    "-- 20. Jeux ayant reçus une note supérieure à la moyenne"
   ]
  },
  {
   "cell_type": "code",
   "execution_count": null,
   "id": "0e1614f4-d6c7-4746-b8fb-cfe8310e9f53",
   "metadata": {
    "kernel": "SoS"
   },
   "outputs": [],
   "source": [
    "-- 21. Nom du jeu ayant reçu la note minimale"
   ]
  },
  {
   "cell_type": "code",
   "execution_count": null,
   "id": "4b355568-211d-4ff5-abbd-a889a51a411f",
   "metadata": {
    "kernel": "SoS"
   },
   "outputs": [],
   "source": [
    "-- 22. Nom et prénom de l'influencer ayant le plus de followers"
   ]
  },
  {
   "cell_type": "code",
   "execution_count": null,
   "id": "215ba87f-9924-4b1d-9387-f6b8a6104b5a",
   "metadata": {
    "kernel": "SoS"
   },
   "outputs": [],
   "source": [
    "-- 23. Nom des jeux dont tous les tests ont donnés une note inférieure à la moyenne des notes attribuées par le reviewer"
   ]
  },
  {
   "cell_type": "markdown",
   "id": "95cf79a3-1c2f-4116-a8f8-2ee9c4a3aaf5",
   "metadata": {
    "kernel": "SoS"
   },
   "source": [
    "## Syntaxe générale d'une requête SQL\n",
    "```sql\n",
    "SELECT ... FROM ... WHERE ... GROUP BY ... HAVING ... ORDER BY ...\n",
    "```\n",
    "\n",
    "**Remarque :**\n",
    "Il existe de nombreux mots-clefs en SQL, dont certains peuvent simplifier l'écriture de certaines requêtes mais qui ne se traduisent pas directement dans l'algèbre relationnelle et qui ne sont normalement pas nécessaires dans le cadre du cours d'informatique pour tous. En voici quelques uns :\n",
    "\n",
    "- `ORDER BY ... LIMIT offset, nombre` qui permet d'obtenir uniquement le nombre d'entrées demandé en commençant au $\\text{offset}^\\text{ème}$ dans l'ordre choisi\n",
    "- `COUNT(DISTINCT champ1)` qu'il faut sinon écrire à l'aide d'une requete imbriquée réalisant une agrégation puis compter les résultats de cette requête : `SELECT COUNT(*) FROM (SELECT 1  FROM ... GROUP BY champ1)`\n",
    "- `EXISTS (...)` qui permet de tester si une requête renvoie des résultats qu'il faut sinon écrire avec une requête imbriquée `(SELECT COUNT(*) FROM (...)) = 0`"
   ]
  }
 ],
 "metadata": {
  "kernelspec": {
   "display_name": "xsql",
   "language": "sqlite",
   "name": "xsql"
  },
  "language_info": {
   "codemirror_mode": "sql",
   "file_extension": "",
   "mimetype": "",
   "name": "mysql",
   "version": "0.0.8"
  },
  "sos": {
   "kernels": [
    [
     "SoS",
     "sos",
     "",
     "",
     "sos"
    ],
    [
     "xsql",
     "xsql",
     "sqlite",
     "",
     "sql"
    ]
   ],
   "version": "0.20.1"
  },
  "toc-autonumbering": true
 },
 "nbformat": 4,
 "nbformat_minor": 5
}
