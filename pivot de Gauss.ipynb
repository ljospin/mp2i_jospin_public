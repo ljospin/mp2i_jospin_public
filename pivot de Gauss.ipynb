{
 "cells": [
  {
   "cell_type": "code",
   "execution_count": 1,
   "id": "be4b1caf",
   "metadata": {},
   "outputs": [
    {
     "name": "stdout",
     "output_type": "stream",
     "text": [
      "[0, 1]\n",
      "[2, 3]\n"
     ]
    }
   ],
   "source": [
    "def print_matrice(matrice):\n",
    "    print(*matrice, sep=\"\\n\")\n",
    "\n",
    "print_matrice([[0, 1], [2, 3]])"
   ]
  },
  {
   "cell_type": "markdown",
   "id": "6f5da8d6",
   "metadata": {},
   "source": [
    "# Mise en place des outils de base"
   ]
  },
  {
   "cell_type": "markdown",
   "id": "5afd2d14",
   "metadata": {},
   "source": [
    "1. Ecrire une fonction `cree_matrice` qui prend trois arguments :nbLignes,nbColonnes, et fonction et qui crée une matrice avec les dimensions fournies remplie par les images `fonction(i,j)` des indices dans la matrice (on utilisera des indices à partir de 0 conformément à l’usage informatique plutôt que l’usage mathématiques)."
   ]
  },
  {
   "cell_type": "code",
   "execution_count": 2,
   "id": "a65b1ba0",
   "metadata": {},
   "outputs": [],
   "source": [
    "def cree_matrice(nbLignes, nbColonnes, fonction):\n",
    "    matrice = []\n",
    "    for i in range(nbLignes):\n",
    "        ligne = []\n",
    "        for j in range(nbColonnes):\n",
    "            ligne.append(fonction(i,j))\n",
    "        matrice.append(ligne)\n",
    "    return matrice\n",
    "\n",
    "def cree_matrice(nbLignes, nbColonnes, fonction):\n",
    "    return [[fonction(i,j) for j in range(nbColonnes)] for i in range(nbLignes)]"
   ]
  },
  {
   "cell_type": "markdown",
   "id": "aa46d9fb",
   "metadata": {},
   "source": [
    "2. Déterminer dans chaque cas une fonction pouvant être utilisée dans la fonction `cree_matrice` pour obtenir :"
   ]
  },
  {
   "cell_type": "code",
   "execution_count": 3,
   "id": "e9996f5e",
   "metadata": {},
   "outputs": [
    {
     "name": "stdout",
     "output_type": "stream",
     "text": [
      "[5, 5, 5]\n",
      "[5, 5, 5]\n"
     ]
    }
   ],
   "source": [
    "# 1. matrice constante de terme égal à a\n",
    "def constante(a):\n",
    "    return lambda i, j:a\n",
    "\n",
    "def constante(a):\n",
    "    def ma_fonction(i,j):\n",
    "        return a\n",
    "    return ma_fonction\n",
    "\n",
    "print_matrice(cree_matrice(2, 3, constante(5)))"
   ]
  },
  {
   "cell_type": "code",
   "execution_count": 4,
   "id": "4da57534",
   "metadata": {},
   "outputs": [
    {
     "name": "stdout",
     "output_type": "stream",
     "text": [
      "[1, 0, 0]\n",
      "[0, 1, 0]\n",
      "[0, 0, 1]\n"
     ]
    }
   ],
   "source": [
    "# 2. matrice identité\n",
    "def identite(i, j):\n",
    "    return int(i==j)\n",
    "\n",
    "print_matrice(cree_matrice(3, 3, identite))"
   ]
  },
  {
   "cell_type": "code",
   "execution_count": 5,
   "id": "49decc04",
   "metadata": {},
   "outputs": [
    {
     "name": "stdout",
     "output_type": "stream",
     "text": [
      "[0.0015931266303048641, 0.41297227463656305]\n",
      "[0.5995914734805836, 0.11527008327207033]\n"
     ]
    }
   ],
   "source": [
    "# 3. aléatoire dans [0,1[\n",
    "from random import random\n",
    "def aleatoire(i, j):\n",
    "    return random()\n",
    "\n",
    "print_matrice(cree_matrice(2, 2, aleatoire))"
   ]
  },
  {
   "cell_type": "code",
   "execution_count": 6,
   "id": "4273579b",
   "metadata": {},
   "outputs": [
    {
     "name": "stdout",
     "output_type": "stream",
     "text": [
      "Matrice A:\n",
      "[1, 0, 0]\n",
      "[42, 1, 0]\n",
      "Matrice B:\n",
      "[1, 0, 0]\n",
      "[0, 1, 0]\n"
     ]
    }
   ],
   "source": [
    "# 4. copie d'une matrice mat\n",
    "def copie(mat):\n",
    "    return lambda i,j: mat[i][j]\n",
    "\n",
    "A = cree_matrice(2, 3, identite)\n",
    "B = cree_matrice(2, 3, copie(A))\n",
    "#B = A\n",
    "A[1][0] = 42\n",
    "print(\"Matrice A:\")\n",
    "print_matrice(A)\n",
    "\n",
    "print(\"Matrice B:\")\n",
    "print_matrice(B)"
   ]
  },
  {
   "cell_type": "markdown",
   "id": "3fe9aec5",
   "metadata": {},
   "source": [
    "3. En utilisant encore la fonction `cree_matrice` avec en argument une fonction adéquate, écrire une fonction qui calcule la somme de deux matrices si leurs dimensions sont compatibles et renvoie un message d’erreur sinon. (On pourra utiliser le mot-clef assert qui suivi d’une condition déclenche une erreur si cette condition n’est pas vérifiée). Ecrire également une fonction qui multiplie une matrice par un scalaire et renvoie le résultat. Déterminer la complexité de ces fonctions."
   ]
  },
  {
   "cell_type": "code",
   "execution_count": 7,
   "id": "a3da8871",
   "metadata": {},
   "outputs": [],
   "source": [
    "def somme_matrices(A, B):\n",
    "    assert len(A)==len(B) and len(A[0])==len(B[0])\n",
    "    return cree_matrice(len(A), len(A[0]), \n",
    "                        lambda i,j:A[i][j]+B[i][j])\n",
    "\n",
    "def multiple_matrice_scalaire(A, x):\n",
    "    return cree_matrice(len(A), len(A[0]),\n",
    "                       lambda i, j:x*A[i][j])"
   ]
  },
  {
   "cell_type": "markdown",
   "id": "76e58b08",
   "metadata": {},
   "source": [
    "`cree_matrice` contient deux boucles imbriquées de longueur respectives n (le nombre de lignes) et p (le nombre de colonnes). Pour chaque itération elle évalue fonction en i, j, qui est de complexité constante dans tous les exemples.\n",
    "La complexité est donc en $\\Theta(n p)$."
   ]
  },
  {
   "cell_type": "markdown",
   "id": "25d03c5a",
   "metadata": {},
   "source": [
    "4. En utilisant encore la fonction `cree_matrice` avec en argument une fonction adéquate, écrire une fonction quieffectue le produit matriciel entre deux matrices si leurs dimensions sont compatibles et renvoie un message d’erreur sinon. Déterminer la complexité."
   ]
  },
  {
   "cell_type": "code",
   "execution_count": 8,
   "id": "e9d21fd5",
   "metadata": {},
   "outputs": [],
   "source": [
    "def produit(A,B):\n",
    "    assert len(A[0])==len(B)\n",
    "    def coeff(i, j):\n",
    "        s = 0\n",
    "        for k in range(len(A[0])):\n",
    "            s+=A[i][k]*B[k][j]\n",
    "        return s\n",
    "    return cree_matrice(len(A), len(B[0]), coeff)\n",
    "\n",
    "def produit(A,B):\n",
    "    assert len(A[0])==len(B)\n",
    "    return cree_matrice(len(A), len(B[0]), lambda i,j: sum([A[i][k]*B[k][j] for k in range(len(A[0]))]))"
   ]
  },
  {
   "cell_type": "markdown",
   "id": "9f962a94",
   "metadata": {},
   "source": [
    "Si A : n x p et B : p x k  \n",
    "\n",
    "`cree_matrice` fait n x k itérations dans lesquelles elle calcule `coeff(i,j)` qui est de complexité $\\Theta(p)$\n",
    "\n",
    "La complexité est donc $\\Theta(n p k)$"
   ]
  },
  {
   "cell_type": "markdown",
   "id": "39bab1db",
   "metadata": {},
   "source": [
    "# Algorithme du pivot de Gauss\n",
    "5. Programmer l'algorithme du pivot de Gauss:  \n",
    "(a) Ecrire une fonction `ligne_pivot(matrice, i)` qui détermine la ligne du coefficient de valeur absolue maximale dans la colonne i à partir de la ligne i"
   ]
  },
  {
   "cell_type": "code",
   "execution_count": 9,
   "id": "5cf9058b",
   "metadata": {},
   "outputs": [],
   "source": [
    "def ligne_pivot(matrice, i ):\n",
    "    jMax = i\n",
    "    for j in range(i+1, len(matrice)):\n",
    "        if abs(matrice[j][i])>abs(matrice[jMax][i]):\n",
    "            jMax = j\n",
    "    return jMax"
   ]
  },
  {
   "cell_type": "markdown",
   "id": "9b6ca4fa",
   "metadata": {},
   "source": [
    "Complexité : $\\Theta(n-i-1)$"
   ]
  },
  {
   "cell_type": "markdown",
   "id": "11ff6225",
   "metadata": {},
   "source": [
    "(b) Ecrire une fonction `echange_lignes(matrice, i, j)` qui produit des effets de bords sur la matrice."
   ]
  },
  {
   "cell_type": "code",
   "execution_count": 10,
   "id": "f8ee37fb",
   "metadata": {},
   "outputs": [],
   "source": [
    "def echange_lignes(matrice, i, j):\n",
    "    matrice[i], matrice[j] = matrice[j], matrice[i]\n",
    "# ne marche pas si c'est un tableau numpy"
   ]
  },
  {
   "cell_type": "markdown",
   "id": "e0c2405c",
   "metadata": {},
   "source": [
    "Complexité : $\\Theta(1)$ (si on fait comme ça mais $\\Theta(n+p)$ si on le fait par itération)"
   ]
  },
  {
   "cell_type": "markdown",
   "id": "c9ed3da6",
   "metadata": {},
   "source": [
    "(c) Ecrire une fonction `transvection(matrice, i, j, mu)` ($L_i←L_i+μL_j$) qui produit des effets de bords sur la matrice."
   ]
  },
  {
   "cell_type": "code",
   "execution_count": 11,
   "id": "a1a7a9ed",
   "metadata": {},
   "outputs": [],
   "source": [
    "def transvection(matrice, i, j, mu):\n",
    "    for k in range(len(matrice[0])):\n",
    "        matrice[i][k] += mu*matrice[j][k]"
   ]
  },
  {
   "cell_type": "markdown",
   "id": "ead73ae1",
   "metadata": {},
   "source": [
    "Complexité : $\\Theta(n+p)$"
   ]
  },
  {
   "cell_type": "markdown",
   "id": "958417ca",
   "metadata": {},
   "source": [
    "(d) Ecrire une fonction `multiplie_ligne(matrice, i, mu)` ($L_i←μL_i$) qui produit des effets de bords sur la matrice."
   ]
  },
  {
   "cell_type": "code",
   "execution_count": 12,
   "id": "11fb5569",
   "metadata": {},
   "outputs": [],
   "source": [
    "def multiplie_ligne(matrice, i, mu):\n",
    "    for k in range(len(matrice[0])):\n",
    "        matrice[i][k] *= mu"
   ]
  },
  {
   "cell_type": "markdown",
   "id": "5db0b648",
   "metadata": {},
   "source": [
    "Complexité : $\\Theta(n+p)$"
   ]
  },
  {
   "cell_type": "markdown",
   "id": "ace28089",
   "metadata": {},
   "source": [
    "(e) Implanter  l’algorithme  du  pivot  de  Gauss  sur  ces  matrices  sous  la  forme  d’une  fonction $pivot(A,b)$ quirenvoie le membre droit de la matrice augmentée après exécution de l’algorithme."
   ]
  },
  {
   "cell_type": "code",
   "execution_count": 13,
   "id": "d3bc346b",
   "metadata": {},
   "outputs": [],
   "source": [
    "def augmente(A, B):\n",
    "    assert len(A)==len(B)\n",
    "    return cree_matrice(len(A), len(A[0])+len(B[0]),\n",
    "        lambda i, j: A[i][j] if j<len(A[0]) else B[i][j-len(A[0])])"
   ]
  },
  {
   "cell_type": "markdown",
   "id": "e32335d3",
   "metadata": {},
   "source": [
    "Complexité $\\Theta(n (n+p))$"
   ]
  },
  {
   "cell_type": "code",
   "execution_count": 14,
   "id": "9d314e91",
   "metadata": {
    "scrolled": true
   },
   "outputs": [
    {
     "name": "stdout",
     "output_type": "stream",
     "text": [
      "Après mise sous forme triangulaire\n",
      "[2, 3, 5]\n",
      "[0.0, 1.0, 4.0]\n",
      "Après remontée\n",
      "[1.0, 0.0, -3.5]\n",
      "[0.0, 1.0, 4.0]\n",
      "[-3.5]\n",
      "[4.0]\n"
     ]
    }
   ],
   "source": [
    "def pivot_gauss(A, b):\n",
    "    n = len(A)\n",
    "    mat = augmente(A, b) # Theta(n(n+p))\n",
    "    p = len(b[0])\n",
    "    # mise sous forme triangulaire\n",
    "    for i in range(n-1): # n-1  itérations\n",
    "        j = ligne_pivot(mat, i) # Theta(n-i-1)\n",
    "        echange_lignes(mat, i, j) # Theta(1)\n",
    "        for k in range(i+1, n): # (n-i-1) itérations\n",
    "            transvection(mat, k, i, -mat[k][i]/mat[i][i]) # Theta(n+p)\n",
    "        #print(\"tour de boucle\", i)\n",
    "        #print_matrice(mat)\n",
    "    # somme sur tous les i de: (Theta(n-i) + (n-i-1) Theta(n+p)) ) = Theta(n² (n+p))\n",
    "    print(\"Après mise sous forme triangulaire\")\n",
    "    print_matrice(mat)\n",
    "    \n",
    "    # remontée\n",
    "    for k in range(n-1,-1,-1): # n itérations\n",
    "        multiplie_ligne(mat, k, 1/mat[k][k]) # Theta(n+p)\n",
    "        for j in range(k+1, n):\n",
    "            transvection(mat, k, j, -mat[k][j]) # Theta(n+p)\n",
    "        multiplie_ligne(mat, k, 1/mat[k][k]) # Theta(n+p)\n",
    "    # même principe\n",
    "    print(\"Après remontée\")\n",
    "    print_matrice(mat)\n",
    "    return cree_matrice(n,p,lambda i,j:mat[i][j+n])\n",
    "print_matrice(pivot_gauss([[0,1],[2,3]], [[4], [5]]))"
   ]
  },
  {
   "cell_type": "code",
   "execution_count": 15,
   "id": "79c5a46c",
   "metadata": {},
   "outputs": [
    {
     "name": "stdout",
     "output_type": "stream",
     "text": [
      "Après mise sous forme triangulaire\n",
      "[2, 3, 0, 1]\n",
      "[0.0, 1.0, 1.0, 0.0]\n",
      "Après remontée\n",
      "[1.0, 0.0, -1.5, 0.5]\n",
      "[0.0, 1.0, 1.0, 0.0]\n",
      "Inverse de A:\n",
      "[-1.5, 0.5]\n",
      "[1.0, 0.0]\n",
      "Vérification : A x invA\n",
      "[1.0, 0.0]\n",
      "[0.0, 1.0]\n"
     ]
    }
   ],
   "source": [
    "A=[[0,1],[2,3]]\n",
    "I=[[1,0],[0,1]]\n",
    "invA = pivot_gauss(A, I)\n",
    "print(\"Inverse de A:\")\n",
    "print_matrice(invA)\n",
    "print(\"Vérification : A x invA\")\n",
    "print_matrice(produit(A,invA))"
   ]
  },
  {
   "cell_type": "markdown",
   "id": "9c081193",
   "metadata": {},
   "source": [
    "Complexité : $$ \\sum_{i=0}^{n-2} \\left (\\Theta(n-i) + (n-i-1) \\Theta(n+p)) \\right) = (n-1) \\left (\\Theta(\\frac{n(n-1)} 2) + \\frac{n(n-1)}2  \\Theta(n+p) \\right )= \\Theta(n^2 (n+p))$$\n",
    "Si $p \\leqslant n$ (dans la majorité des applications pratiques $p=1$ ou $p=n$), on a ainsi : $$C(n) = \\Theta(n^3)$$\n"
   ]
  }
 ],
 "metadata": {
  "kernelspec": {
   "display_name": "Python 3",
   "language": "python",
   "name": "python3"
  },
  "language_info": {
   "codemirror_mode": {
    "name": "ipython",
    "version": 3
   },
   "file_extension": ".py",
   "mimetype": "text/x-python",
   "name": "python",
   "nbconvert_exporter": "python",
   "pygments_lexer": "ipython3",
   "version": "3.8.5"
  }
 },
 "nbformat": 4,
 "nbformat_minor": 5
}
