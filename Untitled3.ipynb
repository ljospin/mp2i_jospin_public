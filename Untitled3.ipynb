{
 "cells": [
  {
   "cell_type": "markdown",
   "id": "cffc86b6",
   "metadata": {},
   "source": [
    "# test\n",
    "truc bidule\n"
   ]
  },
  {
   "cell_type": "code",
   "execution_count": 2,
   "id": "d6db6282",
   "metadata": {},
   "outputs": [
    {
     "data": {
      "text/plain": [
       "- : int = 8\n"
      ]
     },
     "execution_count": 2,
     "metadata": {},
     "output_type": "execute_result"
    }
   ],
   "source": [
    "let t= 3 in t +5;;"
   ]
  }
 ],
 "metadata": {
  "kernelspec": {
   "display_name": "OCaml 4.12.0",
   "language": "OCaml",
   "name": "ocaml-jupyter"
  },
  "language_info": {
   "codemirror_mode": "text/x-ocaml",
   "file_extension": ".ml",
   "mimetype": "text/x-ocaml",
   "name": "OCaml",
   "nbconverter_exporter": null,
   "pygments_lexer": "OCaml",
   "version": "4.12.0"
  }
 },
 "nbformat": 4,
 "nbformat_minor": 5
}
